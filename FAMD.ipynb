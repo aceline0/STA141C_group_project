{
 "cells": [
  {
   "cell_type": "code",
   "execution_count": 1,
   "metadata": {},
   "outputs": [],
   "source": [
    "import pandas as pd\n",
    "from prince import FAMD"
   ]
  },
  {
   "cell_type": "code",
   "execution_count": 12,
   "metadata": {},
   "outputs": [],
   "source": [
    "df1 = pd.read_table(\"Datasets/schooldropout.csv\", sep=';')\n",
    "ms1 = df1.iloc[:,0]\n"
   ]
  },
  {
   "cell_type": "code",
   "execution_count": 14,
   "metadata": {},
   "outputs": [],
   "source": [
    "ms1 = ms1.apply(str)"
   ]
  },
  {
   "cell_type": "code",
   "execution_count": 15,
   "metadata": {},
   "outputs": [
    {
     "data": {
      "text/plain": [
       "0       1\n",
       "1       1\n",
       "2       1\n",
       "3       1\n",
       "4       2\n",
       "       ..\n",
       "4419    1\n",
       "4420    1\n",
       "4421    1\n",
       "4422    1\n",
       "4423    1\n",
       "Name: Marital status, Length: 4424, dtype: object"
      ]
     },
     "execution_count": 15,
     "metadata": {},
     "output_type": "execute_result"
    }
   ],
   "source": [
    "ms1"
   ]
  },
  {
   "cell_type": "code",
   "execution_count": 25,
   "metadata": {},
   "outputs": [
    {
     "data": {
      "text/plain": [
       "{'Marital status': dtype('O'),\n",
       " 'Application mode': dtype('O'),\n",
       " 'Application order': dtype('O'),\n",
       " 'Course': dtype('O'),\n",
       " 'Daytime/evening attendance': dtype('O'),\n",
       " 'Previous qualification': dtype('O'),\n",
       " 'Previous qualification (grade)': dtype('float64'),\n",
       " 'Nationality': dtype('O'),\n",
       " \"Mother's qualification\": dtype('O'),\n",
       " \"Father's qualification\": dtype('O'),\n",
       " \"Mother's occupation\": dtype('O'),\n",
       " \"Father's occupation\": dtype('O'),\n",
       " 'Admission grade': dtype('float64'),\n",
       " 'Displaced': dtype('O'),\n",
       " 'Educational special needs': dtype('O'),\n",
       " 'Debtor': dtype('O'),\n",
       " 'Tuition fees up to date': dtype('O'),\n",
       " 'Gender': dtype('O'),\n",
       " 'Scholarship holder': dtype('O'),\n",
       " 'Age at enrollment': dtype('int64'),\n",
       " 'International': dtype('O'),\n",
       " 'Curricular units 1st sem (credited)': dtype('int64'),\n",
       " 'Curricular units 1st sem (enrolled)': dtype('int64'),\n",
       " 'Curricular units 1st sem (evaluations)': dtype('int64'),\n",
       " 'Curricular units 1st sem (approved)': dtype('int64'),\n",
       " 'Curricular units 1st sem (grade)': dtype('float64'),\n",
       " 'Curricular units 1st sem (without evaluations)': dtype('int64'),\n",
       " 'Curricular units 2nd sem (credited)': dtype('int64'),\n",
       " 'Curricular units 2nd sem (enrolled)': dtype('int64'),\n",
       " 'Curricular units 2nd sem (evaluations)': dtype('int64'),\n",
       " 'Curricular units 2nd sem (approved)': dtype('int64'),\n",
       " 'Curricular units 2nd sem (grade)': dtype('float64'),\n",
       " 'Curricular units 2nd sem (without evaluations)': dtype('int64'),\n",
       " 'Unemployment rate': dtype('float64'),\n",
       " 'Inflation rate': dtype('float64'),\n",
       " 'GDP': dtype('float64'),\n",
       " 'Target': dtype('O')}"
      ]
     },
     "execution_count": 25,
     "metadata": {},
     "output_type": "execute_result"
    }
   ],
   "source": [
    "#read data\n",
    "df = pd.read_table(\"Datasets/schooldropout.csv\", sep=';')\n",
    "\n",
    "#encode Target as 0=dropout, 1=graduate, 2=enrolled\n",
    "df['Target'].replace(['Dropout', 'Graduate', 'Enrolled'], ['0', '1', '2'], inplace=True)\n",
    "\n",
    "#convert nominal variables to strings\n",
    "#otherwise, famd will treat them as quantitative and throw error \"use PCA instead\"\n",
    "for col in ['Marital status', \n",
    "            'Application mode',\n",
    "            'Application order',\n",
    "            'Course',\n",
    "            'Daytime/evening attendance',\n",
    "            'Previous qualification',\n",
    "            'Nationality',\n",
    "            \"Mother's qualification\",\n",
    "            \"Father's qualification\",\n",
    "            \"Mother's occupation\",\n",
    "            \"Father's occupation\",\n",
    "            'Displaced',\n",
    "            'Educational special needs',\n",
    "            'Debtor',\n",
    "            'Tuition fees up to date',\n",
    "            'Gender',\n",
    "            'Scholarship holder',\n",
    "            'International']:\n",
    "    df[col] = df[col].apply(str)\n",
    "\n",
    "#check data types\n",
    "{df.columns[i]:x for i,x in enumerate(df.dtypes)}"
   ]
  },
  {
   "cell_type": "code",
   "execution_count": 35,
   "metadata": {},
   "outputs": [
    {
     "ename": "AttributeError",
     "evalue": "'FAMD' object has no attribute 'plot_row_coordinates'",
     "output_type": "error",
     "traceback": [
      "\u001b[1;31m---------------------------------------------------------------------------\u001b[0m",
      "\u001b[1;31mAttributeError\u001b[0m                            Traceback (most recent call last)",
      "\u001b[1;32m~\\AppData\\Local\\Temp\\ipykernel_6304\\1916238520.py\u001b[0m in \u001b[0;36m<module>\u001b[1;34m\u001b[0m\n\u001b[0;32m      6\u001b[0m \u001b[1;31m#plot components\u001b[0m\u001b[1;33m\u001b[0m\u001b[1;33m\u001b[0m\u001b[0m\n\u001b[0;32m      7\u001b[0m \u001b[0mfamd\u001b[0m\u001b[1;33m.\u001b[0m\u001b[0mtransform\u001b[0m\u001b[1;33m(\u001b[0m\u001b[0mdf\u001b[0m\u001b[1;33m)\u001b[0m\u001b[1;33m\u001b[0m\u001b[1;33m\u001b[0m\u001b[0m\n\u001b[1;32m----> 8\u001b[1;33m famd.plot_row_coordinates(\n\u001b[0m\u001b[0;32m      9\u001b[0m     \u001b[0mdf\u001b[0m\u001b[1;33m.\u001b[0m\u001b[0mhead\u001b[0m\u001b[1;33m(\u001b[0m\u001b[1;36m200\u001b[0m\u001b[1;33m)\u001b[0m\u001b[1;33m,\u001b[0m\u001b[1;33m\u001b[0m\u001b[1;33m\u001b[0m\u001b[0m\n\u001b[0;32m     10\u001b[0m     \u001b[0mfigsize\u001b[0m \u001b[1;33m=\u001b[0m \u001b[1;33m(\u001b[0m\u001b[1;36m15\u001b[0m\u001b[1;33m,\u001b[0m\u001b[1;36m10\u001b[0m\u001b[1;33m)\u001b[0m\u001b[1;33m,\u001b[0m\u001b[1;33m\u001b[0m\u001b[1;33m\u001b[0m\u001b[0m\n",
      "\u001b[1;31mAttributeError\u001b[0m: 'FAMD' object has no attribute 'plot_row_coordinates'"
     ]
    }
   ],
   "source": [
    "#FAMD\n",
    "famd = FAMD(n_components = 10, n_iter = 3, random_state = 101)\n",
    "famd.fit(df.drop('Target', axis=1)) #leave out response variable 'Target'\n",
    "famd.eigenvalues_summary\n",
    "\n",
    "#plot components\n",
    "famd.transform(df)\n",
    "famd.plot_row_coordinates(\n",
    "    df.head(200),\n",
    "    figsize = (15,10),\n",
    "    color_labels=['Completion status: {}'.format(t) for t in df['Target']]\n",
    ")\n"
   ]
  }
 ],
 "metadata": {
  "kernelspec": {
   "display_name": "base",
   "language": "python",
   "name": "python3"
  },
  "language_info": {
   "codemirror_mode": {
    "name": "ipython",
    "version": 3
   },
   "file_extension": ".py",
   "mimetype": "text/x-python",
   "name": "python",
   "nbconvert_exporter": "python",
   "pygments_lexer": "ipython3",
   "version": "3.9.13"
  },
  "orig_nbformat": 4
 },
 "nbformat": 4,
 "nbformat_minor": 2
}
