{
 "cells": [
  {
   "attachments": {},
   "cell_type": "markdown",
   "metadata": {},
   "source": [
    "## Logistic Regression via Gradient Descent"
   ]
  },
  {
   "cell_type": "code",
   "execution_count": 4,
   "metadata": {},
   "outputs": [],
   "source": [
    "import numpy as np\n",
    "import scipy.linalg as linalg\n",
    "\n",
    "\n",
    "# import time\n",
    "import numpy as np\n",
    "from math import e\n",
    "import pandas as pd\n",
    "import matplotlib.pyplot as plt\n",
    "from sklearn.preprocessing import StandardScaler\n",
    "from sklearn.model_selection import train_test_split\n",
    "\n",
    "sc = StandardScaler()\n",
    "X_train = sc.fit_transform(X_train)\n",
    "X_test = sc.transform(X_test)\n",
    "#%%\n",
    "\n",
    "def generateXvector(X):\n",
    "    \"\"\" Taking the original independent variables matrix and add a row of 1 which corresponds to x_0\n",
    "        Parameters:\n",
    "          X:  independent variables matrix\n",
    "        Return value: the matrix that contains all the values in the dataset, not include the outcomes values \n",
    "    \"\"\"\n",
    "    vectorX = np.c_[np.ones((len(X), 1)), X]\n",
    "    return vectorX\n",
    "\n",
    "def theta_init(X):\n",
    "    \"\"\" Generate an initial value of vector θ from the original independent variables matrix\n",
    "         Parameters:\n",
    "          X:  independent variables matrix\n",
    "        Return value: a vector of theta filled with initial guess\n",
    "    \"\"\"\n",
    "    theta = np.random.randn(len(X[0])+1, 1)\n",
    "    return theta\n",
    "\n",
    "def sigmoid_function(X):\n",
    "    \"\"\" Calculate the sigmoid value of the inputs\n",
    "         Parameters:\n",
    "          X:  values\n",
    "        Return value: the sigmoid value\n",
    "    \"\"\"\n",
    "    return 1/(1+e**(-X))\n",
    "\n",
    "def tolerance_check(beta0, beta, eps):\n",
    "    diff = np.abs(beta0-beta) # norm \n",
    "    if np.any(diff>eps): # if norm crosses threshold\n",
    "        return False\n",
    "    else:\n",
    "        return True\n",
    "    \n",
    "def Logistics_Regression(X, y, learningrate, eps):\n",
    "    \"\"\" Find the Logistics regression model for the data set\n",
    "         Parameters:\n",
    "          X: independent variables matrix\n",
    "          y: dependent variables matrix\n",
    "          learningrate: learningrate of Gradient Descent\n",
    "          iterations: the number of iterations\n",
    "        Return value: the final theta vector and the plot of cost function\n",
    "    \"\"\"\n",
    "    y_new = np.reshape(y, (len(y), 1))   \n",
    "    cost_lst = []\n",
    "    vectorX = generateXvector(X)\n",
    "    theta = theta_init(X)\n",
    "    m = len(X)\n",
    "    iterations = 0\n",
    "    #for i in range(iterations):\n",
    "    converge = False\n",
    "    while not converge:\n",
    "        gradients = 2/m * vectorX.T.dot(sigmoid_function(vectorX.dot(theta)) - y_new)\n",
    "        theta1 = theta - learningrate * gradients\n",
    "        y_pred = sigmoid_function(vectorX.dot(theta))\n",
    "        cost_value = - np.sum(y_new*np.log(y_pred) + ((1-y_new)*np.log(1-y_pred)))/(len(y_pred))\n",
    "        converge = tolerance_check(theta,theta1,eps) # checks convergence\n",
    "        theta = theta1\n",
    "        iterations += 1\n",
    "    #Calculate the loss for each training instance\n",
    "        cost_lst.append(cost_value)\n",
    "    plt.plot(np.arange(1,iterations),cost_lst[1:], color = 'red')\n",
    "    plt.title('Cost function Graph')\n",
    "    plt.xlabel('Number of iterations')\n",
    "    plt.ylabel('Cost')\n",
    "    plt.xlim(0, iterations)\n",
    "    return theta"
   ]
  },
  {
   "attachments": {},
   "cell_type": "markdown",
   "metadata": {},
   "source": [
    "**Split Dataset**  "
   ]
  },
  {
   "cell_type": "code",
   "execution_count": 11,
   "metadata": {},
   "outputs": [],
   "source": [
    "import pandas as pd\n",
    "from sklearn.model_selection import train_test_split\n",
    "\n",
    "dropout = pd.read_csv(\"../Datasets/schooldropout.csv\", sep=\";\")\n",
    "dropout['Target'].replace(['Dropout', 'Graduate',\"Enrolled\"],[0, 1,1], inplace=True)\n",
    "\n",
    "X = dropout.drop(['Target'],axis=1)\n",
    "y = dropout[[\"Target\"]]\n",
    "\n",
    "X_train,X_test,y_train, y_test = train_test_split(X,y ,random_state=100, test_size=0.20, shuffle=True)"
   ]
  },
  {
   "attachments": {},
   "cell_type": "markdown",
   "metadata": {},
   "source": [
    "**Initial Test**"
   ]
  },
  {
   "cell_type": "code",
   "execution_count": 26,
   "metadata": {},
   "outputs": [
    {
     "data": {
      "image/png": "[encoded data removed]",
      "text/plain": [
       "<Figure size 640x480 with 1 Axes>"
      ]
     },
     "metadata": {},
     "output_type": "display_data"
    }
   ],
   "source": [
    "sc = StandardScaler()\n",
    "X_train = sc.fit_transform(X_train)\n",
    "X_test = sc.transform(X_test)\n",
    "eps = 10**(-3)\n",
    "beta = Logistics_Regression(X_train,y_train, 1, eps)"
   ]
  },
  {
   "cell_type": "code",
   "execution_count": 27,
   "metadata": {},
   "outputs": [
    {
     "data": {
      "text/plain": [
       "array([[ 1.15010720e-01],\n",
       "       [-2.84910397e-02],\n",
       "       [-1.21053128e-01],\n",
       "       [-2.39949812e-01],\n",
       "       [-6.73258051e-04],\n",
       "       [ 1.16141256e-01],\n",
       "       [-7.97586969e-02],\n",
       "       [-2.69619625e-01],\n",
       "       [-2.20533703e-01],\n",
       "       [ 1.31621909e-01],\n",
       "       [ 3.36776323e-01],\n",
       "       [-9.04846135e-02],\n",
       "       [ 6.09600307e-02],\n",
       "       [-1.44131481e-01],\n",
       "       [-5.33424972e-02],\n",
       "       [-1.45469360e-01],\n",
       "       [ 7.34902190e-01],\n",
       "       [-1.05443783e-01],\n",
       "       [ 2.56073935e-01],\n",
       "       [-3.55212729e-01],\n",
       "       [ 3.53991952e-01],\n",
       "       [-2.46501809e-01],\n",
       "       [-1.20772422e-01],\n",
       "       [ 9.20228485e-02],\n",
       "       [ 9.17197754e-01],\n",
       "       [-3.27907248e-01],\n",
       "       [ 8.73171121e-02],\n",
       "       [-4.60491041e-01],\n",
       "       [-9.45957647e-01],\n",
       "       [ 1.22160734e-01],\n",
       "       [ 1.80626494e+00],\n",
       "       [ 4.44658680e-01],\n",
       "       [ 8.35030211e-02],\n",
       "       [-1.62424683e-01],\n",
       "       [-1.94812210e-02],\n",
       "       [ 3.80697165e-02]])"
      ]
     },
     "execution_count": 27,
     "metadata": {},
     "output_type": "execute_result"
    }
   ],
   "source": [
    "beta = beta[1:]\n",
    "beta"
   ]
  },
  {
   "attachments": {},
   "cell_type": "markdown",
   "metadata": {},
   "source": [
    "**Testing**  \n",
    "Taken from online resource"
   ]
  },
  {
   "cell_type": "code",
   "execution_count": 29,
   "metadata": {},
   "outputs": [],
   "source": [
    "def predict_lr(X,y,beta):\n",
    "    xbeta = np.dot(X,beta)\n",
    "    predict = np.array(sigmoid_function(xbeta))\n",
    "    threshold = 0.5*np.ones((predict.shape[0],1))\n",
    "    pred_class = np.greater(predict,threshold)\n",
    "    accuracy = np.count_nonzero(np.equal(pred_class, y))/pred_class.shape[0]\n",
    "    return accuracy, pred_class"
   ]
  },
  {
   "cell_type": "code",
   "execution_count": 30,
   "metadata": {},
   "outputs": [
    {
     "data": {
      "text/plain": [
       "0.8610169491525423"
      ]
     },
     "execution_count": 30,
     "metadata": {},
     "output_type": "execute_result"
    }
   ],
   "source": [
    "acc, predict = predict_lr(X_test,y_test,beta)\n",
    "acc"
   ]
  },
  {
   "cell_type": "code",
   "execution_count": 31,
   "metadata": {},
   "outputs": [
    {
     "data": {
      "image/png": "[encoded data removed]",
      "text/plain": [
       "<Figure size 600x600 with 1 Axes>"
      ]
     },
     "metadata": {},
     "output_type": "display_data"
    }
   ],
   "source": [
    "from sklearn import metrics\n",
    "from mlxtend.plotting import plot_confusion_matrix\n",
    "import matplotlib.pyplot as plt\n",
    "\n",
    "conf_matrix = metrics.confusion_matrix(y_test, predict)\n",
    "fig, ax = plot_confusion_matrix(conf_mat=conf_matrix, figsize=(6, 6), cmap=plt.cm.Greens)\n",
    "plt.xlabel('Predictions', fontsize=18)\n",
    "plt.ylabel('Actuals', fontsize=18)\n",
    "plt.title('Confusion Matrix', fontsize=18)\n",
    "plt.show()"
   ]
  },
  {
   "attachments": {},
   "cell_type": "markdown",
   "metadata": {},
   "source": [
    "**Data Analysis Study**\n",
    "\n",
    "True Dataset"
   ]
  },
  {
   "cell_type": "code",
   "execution_count": null,
   "metadata": {},
   "outputs": [],
   "source": [
    "import time\n",
    "\n",
    "dropout = pd.read_csv(\"../Datasets/schooldropout.csv\", sep=\";\")\n",
    "dropout['Target'].replace(['Dropout', 'Graduate',\"Enrolled\"],[0, 1,1], inplace=True)\n",
    "\n",
    "X = dropout.drop(['Target'],axis=1)\n",
    "y = dropout[[\"Target\"]]\n",
    "\n",
    "accuracy1 = []\n",
    "accuracy75 = []\n",
    "accuracy25 = [] \n",
    "accuracy5 = []\n",
    "accuracy01 = []\n",
    "time1 = []\n",
    "time5 = []\n",
    "time75 = []\n",
    "time25 = []\n",
    "time01 = []\n",
    "\n",
    "for i in range(100):\n",
    "    X_train,x_test,y_train, y_test = train_test_split(X,y ,random_state = 10+i, test_size=0.20, shuffle=True)\n",
    "    sc = StandardScaler()\n",
    "    X_train = sc.fit_transform(X_train)\n",
    "    X_test = sc.transform(X_test)\n",
    "    eps = 10**(-3)\n",
    "\n",
    "    start_time1 = time.time()\n",
    "    beta = Logistics_Regression(X_train,y_train, 1, eps)\n",
    "    end_time1 = time.time()\n",
    "    timediff1 = end_time1-start_time1\n",
    "    time1.append(timediff1)\n",
    "    temp = beta[1:]\n",
    "    acc = predict_lr(x_test,y_test,temp)\n",
    "    accuracy1.append(acc)  "
   ]
  },
  {
   "cell_type": "code",
   "execution_count": null,
   "metadata": {},
   "outputs": [],
   "source": [
    "for i in range(100):\n",
    "    X_train,x_test,y_train, y_test = train_test_split(X,y ,random_state = 10+i, test_size=0.20, shuffle=True)\n",
    "    sc = StandardScaler()\n",
    "    X_train = sc.fit_transform(X_train)\n",
    "    X_test = sc.transform(X_test)\n",
    "    eps = 10**(-3)\n",
    "\n",
    "    start_time75 = time.time()\n",
    "    beta = Logistics_Regression(X_train,y_train, 0.75, eps)\n",
    "    end_time75 = time.time()\n",
    "    timediff75 = end_time75-start_time75\n",
    "    time75.append(timediff75)\n",
    "    temp = beta[1:]\n",
    "    acc = predict_lr(x_test,y_test,temp)\n",
    "    accuracy75.append(acc)\n",
    "    "
   ]
  },
  {
   "cell_type": "code",
   "execution_count": null,
   "metadata": {},
   "outputs": [],
   "source": [
    "for i in range(100):\n",
    "    X_train,x_test,y_train, y_test = train_test_split(X,y ,random_state = 10+i, test_size=0.20, shuffle=True)\n",
    "    sc = StandardScaler()\n",
    "    X_train = sc.fit_transform(X_train)\n",
    "    X_test = sc.transform(X_test)\n",
    "    eps = 10**(-3)\n",
    "\n",
    "    start_time5 = time.time()\n",
    "    beta = Logistics_Regression(X_train,y_train, 0.5, eps)\n",
    "    end_time5 = time.time()\n",
    "    timediff5 = end_time5-start_time5\n",
    "    time5.append(timediff5)\n",
    "    temp = beta[1:]\n",
    "    acc = predict_lr(x_test,y_test,temp)\n",
    "    accuracy5.append(acc)\n",
    "    "
   ]
  },
  {
   "cell_type": "code",
   "execution_count": null,
   "metadata": {},
   "outputs": [],
   "source": [
    "for i in range(100):\n",
    "    X_train,x_test,y_train, y_test = train_test_split(X,y ,random_state = 10+i, test_size=0.20, shuffle=True)\n",
    "    sc = StandardScaler()\n",
    "    X_train = sc.fit_transform(X_train)\n",
    "    X_test = sc.transform(X_test)\n",
    "    eps = 10**(-3)\n",
    "\n",
    "    start_time25 = time.time()\n",
    "    beta = Logistics_Regression(X_train,y_train, 0.25, eps)\n",
    "    end_time25 = time.time()\n",
    "    timediff25 = end_time25-start_time25\n",
    "    time25.append(timediff25)\n",
    "    temp = beta[1:]\n",
    "    acc = predict_lr(x_test,y_test,temp)\n",
    "    accuracy25.append(acc)\n"
   ]
  },
  {
   "cell_type": "code",
   "execution_count": null,
   "metadata": {},
   "outputs": [],
   "source": [
    "for i in range(100):\n",
    "    X_train,x_test,y_train, y_test = train_test_split(X,y ,random_state = 10+i, test_size=0.20, shuffle=True)\n",
    "    sc = StandardScaler()\n",
    "    X_train = sc.fit_transform(X_train)\n",
    "    X_test = sc.transform(X_test)\n",
    "    eps = 10**(-3)   \n",
    "    start_time01 = time.time()\n",
    "    beta = Logistics_Regression(X_train,y_train, 0.01, eps)\n",
    "    end_time01 = time.time()\n",
    "    timediff01 = end_time01-start_time01\n",
    "    time01.append(timediff01)\n",
    "    temp = beta[1:]\n",
    "    acc = predict_lr(x_test,y_test,temp)\n",
    "    accuracy01.append(acc)"
   ]
  },
  {
   "attachments": {},
   "cell_type": "markdown",
   "metadata": {},
   "source": [
    "Simulated Study"
   ]
  },
  {
   "cell_type": "code",
   "execution_count": 44,
   "metadata": {},
   "outputs": [],
   "source": [
    "import numpy as np\n",
    "import pandas as pd\n",
    "from sklearn.datasets import make_classification\n",
    "\n",
    "def sim_study(n, d, p=False):\n",
    "    if p == True:\n",
    "        beta = np.random.uniform(-10,10,d)\n",
    "        cat = pd.DataFrame()\n",
    "        linpred = np.matrix(np.zeros(n))\n",
    "        for i in range(d):\n",
    "            var = np.random.uniform(0,10,n)\n",
    "            var = pd.DataFrame(var)\n",
    "            cat = pd.concat([cat,var], axis=1)\n",
    "        for i in range(d):\n",
    "            x_i=cat.iloc[:,i:i+1].values\n",
    "            x_i = np.matrix(x_i)\n",
    "            beta_i = beta[[i]]\n",
    "            linpred = linpred + x_i*beta_i\n",
    "        prob = (np.exp(linpred))/(1+np.exp(linpred))\n",
    "        target = np.random.binomial(1,p=prob[0]).T\n",
    "        target = pd.DataFrame(target)\n",
    "    else:\n",
    "        cat,target = make_classification(n,d,n_classes=2)\n",
    "    data = pd.concat([cat,target],axis =1)\n",
    "    return data\n",
    "data = sim_study(10000,37,p=False)"
   ]
  }
 ],
 "metadata": {
  "kernelspec": {
   "display_name": "Python 3",
   "language": "python",
   "name": "python3"
  },
  "language_info": {
   "codemirror_mode": {
    "name": "ipython",
    "version": 3
   },
   "file_extension": ".py",
   "mimetype": "text/x-python",
   "name": "python",
   "nbconvert_exporter": "python",
   "pygments_lexer": "ipython3",
   "version": "3.11.0"
  },
  "orig_nbformat": 4
 },
 "nbformat": 4,
 "nbformat_minor": 2
}
